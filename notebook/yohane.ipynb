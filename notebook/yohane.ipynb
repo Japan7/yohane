{
 "cells": [
  {
   "cell_type": "code",
   "execution_count": null,
   "metadata": {},
   "outputs": [],
   "source": [
    "!wget 'https://hikari.butaishoujo.moe/t/3484b4d4/Aqours%20-%20PV%20-%20HAPPY%20PARTY%20TRAIN.txt'\n",
    "!wget 'https://hikari.butaishoujo.moe/v/71921534/Aqours%20-%20PV%20-%20HAPPY%20PARTY%20TRAIN.mp4'\n"
   ]
  },
  {
   "cell_type": "code",
   "execution_count": null,
   "metadata": {},
   "outputs": [],
   "source": [
    "import logging\n",
    "from pathlib import Path\n",
    "\n",
    "from yohane.audio_processing import compute_alignments, prepare_audio\n",
    "from yohane.subtitles import make_ass\n",
    "from yohane.text_processing import Lyrics\n",
    "\n",
    "logging.basicConfig(level=\"INFO\")\n"
   ]
  },
  {
   "cell_type": "code",
   "execution_count": null,
   "metadata": {},
   "outputs": [],
   "source": [
    "AUDIO_FILE = Path('Aqours - PV - HAPPY PARTY TRAIN.mp4')\n",
    "EXTRACT_VOCALS = True\n",
    "\n",
    "waveform = prepare_audio(AUDIO_FILE, EXTRACT_VOCALS)\n"
   ]
  },
  {
   "cell_type": "code",
   "execution_count": null,
   "metadata": {},
   "outputs": [],
   "source": [
    "LYRICS_FILE = Path('Aqours - PV - HAPPY PARTY TRAIN.txt')\n",
    "\n",
    "with open(LYRICS_FILE) as fp:\n",
    "    lyrics = Lyrics(fp.read())\n"
   ]
  },
  {
   "cell_type": "code",
   "execution_count": null,
   "metadata": {},
   "outputs": [],
   "source": [
    "emission, token_spans = compute_alignments(waveform, lyrics.transcript)\n"
   ]
  },
  {
   "cell_type": "code",
   "execution_count": null,
   "metadata": {},
   "outputs": [],
   "source": [
    "subs = make_ass(lyrics, waveform, emission, token_spans)\n",
    "\n",
    "print(subs.to_string('ass'))\n",
    "\n",
    "subs_file = AUDIO_FILE.with_suffix(\".ass\")\n",
    "subs.save(subs_file.as_posix())\n"
   ]
  }
 ],
 "metadata": {
  "kernelspec": {
   "display_name": ".venv",
   "language": "python",
   "name": "python3"
  },
  "language_info": {
   "codemirror_mode": {
    "name": "ipython",
    "version": 3
   },
   "file_extension": ".py",
   "mimetype": "text/x-python",
   "name": "python",
   "nbconvert_exporter": "python",
   "pygments_lexer": "ipython3",
   "version": "3.11.6"
  }
 },
 "nbformat": 4,
 "nbformat_minor": 2
}
