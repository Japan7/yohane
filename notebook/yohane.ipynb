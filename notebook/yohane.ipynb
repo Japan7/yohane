{
  "cells": [
    {
      "cell_type": "markdown",
      "metadata": {
        "id": "lACVssChmYNf"
      },
      "source": [
        "# yohane\n",
        "\n",
        "---\n",
        "\n",
        "Please use the latest version by clicking the badge below:\n",
        "\n",
        "<a target=\"_blank\" href=\"https://colab.research.google.com/github/Japan7/yohane/blob/main/notebook/yohane.ipynb\">\n",
        "  <img src=\"https://colab.research.google.com/assets/colab-badge.svg\" alt=\"Open In Colab\"/>\n",
        "</a>\n",
        "\n",
        "---\n",
        "\n",
        "**Before proceeding, change your runtime to a GPU instance (Toolbar > Runtime > Change runtime type > T4 GPU).**\n"
      ]
    },
    {
      "cell_type": "markdown",
      "metadata": {
        "id": "xwJTVAXcu-Ln"
      },
      "source": [
        "## Install\n"
      ]
    },
    {
      "cell_type": "code",
      "execution_count": null,
      "metadata": {
        "cellView": "form",
        "id": "WreI26vRmKmO"
      },
      "outputs": [],
      "source": [
        "!python3 --version\n"
      ]
    },
    {
      "cell_type": "code",
      "execution_count": null,
      "metadata": {
        "cellView": "form",
        "id": "DUuXDO8enIK2"
      },
      "outputs": [],
      "source": [
        "!git init\n",
        "!git remote add origin https://github.com/Japan7/yohane.git\n",
        "!git fetch origin\n",
        "!git reset --hard origin/main\n",
        "\n",
        "!pip3 install -e .\n"
      ]
    },
    {
      "cell_type": "markdown",
      "metadata": {},
      "source": [
        "Restart the runtime if prompted."
      ]
    },
    {
      "cell_type": "markdown",
      "metadata": {
        "id": "uHDmLc9R7x8J"
      },
      "source": [
        "## Parameters\n",
        "\n",
        "The next cells will set yohane parameters for the generation."
      ]
    },
    {
      "cell_type": "code",
      "execution_count": null,
      "metadata": {
        "id": "PGHogUA-7qcz"
      },
      "outputs": [],
      "source": [
        "# @title Song { display-mode: \"form\" }\n",
        "# @markdown Run this cell and use the form to **upload your song**.\n",
        "#\n",
        "# @markdown It can be either an audio or video file.\n",
        "#\n",
        "# @markdown **If it fails, change your browser or manually upload the file in the File section of the left panel.**\n",
        "\n",
        "from google.colab import files\n",
        "\n",
        "files.upload_file(\"song\")\n"
      ]
    },
    {
      "cell_type": "code",
      "execution_count": null,
      "metadata": {
        "id": "luFhCjhb-Dfm"
      },
      "outputs": [],
      "source": [
        "# @title Lyrics { display-mode: \"form\", run: \"auto\" }\n",
        "# @markdown Run this cell and **paste your lyrics** in the box below.\n",
        "\n",
        "from IPython.display import display\n",
        "from ipywidgets import Layout, Textarea\n",
        "\n",
        "lyrics_area = Textarea(layout=Layout(width=\"100%\", height=\"200px\"))\n",
        "display(lyrics_area)\n"
      ]
    },
    {
      "cell_type": "code",
      "execution_count": null,
      "metadata": {
        "id": "U0i4FT5V-NSG"
      },
      "outputs": [],
      "source": [
        "# @title Vocals Extractor { display-mode: \"form\", run: \"auto\" }\n",
        "# @markdown Run this cell and select the desired **Vocals Extractor**:\n",
        "# @markdown - `VocalRemoverVocalsExtractor` uses the powerful [`vocal-remover`](https://github.com/tsurumeso/vocal-remover). Take this one if you don't know what to choose.\n",
        "# @markdown - `HybridDemucsVocalsExtractor` uses `torchaudio`'s [Hybrid Demucs model](https://pytorch.org/audio/2.1.0/tutorials/hybrid_demucs_tutorial.html) which is faster but lower in quality.\n",
        "# @markdown - `None` if you don't care and want to skip the vocals extraction step.\n",
        "\n",
        "from yohane.audio import VocalRemoverVocalsExtractor, HybridDemucsVocalsExtractor\n",
        "\n",
        "vocals_extractor_class = VocalRemoverVocalsExtractor # @param [\"VocalRemoverVocalsExtractor\", \"HybridDemucsVocalsExtractor\", \"None\"] {type:\"raw\"}\n",
        "vocals_extractor = vocals_extractor_class() if vocals_extractor_class is not None else None\n"
      ]
    },
    {
      "cell_type": "markdown",
      "metadata": {
        "id": "lW-jK163FcBW"
      },
      "source": [
        "## Run\n",
        "\n",
        "If you are ready for prime time, run the next cells!"
      ]
    },
    {
      "cell_type": "code",
      "execution_count": null,
      "metadata": {
        "id": "nGnkPuSzFZzk"
      },
      "outputs": [],
      "source": [
        "# @title Generate\n",
        "# @markdown Change the song filename if you uploaded it manually\n",
        "\n",
        "import logging\n",
        "from pathlib import Path\n",
        "from yohane.__main__ import main\n",
        "\n",
        "logging.basicConfig(level=\"INFO\", force=True)\n",
        "\n",
        "song_filename = \"song\" # @param {type:\"string\"}\n",
        "\n",
        "subs = main(Path(song_filename), lyrics_area.value, vocals_extractor)\n"
      ]
    },
    {
      "cell_type": "code",
      "execution_count": null,
      "metadata": {
        "id": "bgfd-NS6INkN"
      },
      "outputs": [],
      "source": [
        "# @title Save and download\n",
        "\n",
        "from google.colab import files\n",
        "\n",
        "subs.save(\"karaoke.ass\")\n",
        "files.download(\"karaoke.ass\")\n"
      ]
    },
    {
      "cell_type": "markdown",
      "metadata": {
        "id": "YVB0lS8ENJvo"
      },
      "source": [
        "The subs should have been downloaded. If not, open Files in the left panel and look for `subs.ass`.\n",
        "\n",
        "**Happy editing!**\n",
        "\n",
        "![](https://hikari.butaishoujo.moe/p/bd9b7a37/genjitsunoyohane-ep1-scr01.jpg)"
      ]
    }
  ],
  "metadata": {
    "accelerator": "GPU",
    "colab": {
      "gpuType": "T4",
      "provenance": []
    },
    "kernelspec": {
      "display_name": "Python 3",
      "name": "python3"
    },
    "language_info": {
      "name": "python",
      "version": "3.11.6"
    }
  },
  "nbformat": 4,
  "nbformat_minor": 0
}
