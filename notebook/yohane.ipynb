{
 "cells": [
  {
   "cell_type": "code",
   "execution_count": null,
   "metadata": {},
   "outputs": [],
   "source": [
    "!wget 'https://hikari.butaishoujo.moe/t/3484b4d4/Aqours%20-%20PV%20-%20HAPPY%20PARTY%20TRAIN.txt'\n",
    "!wget 'https://hikari.butaishoujo.moe/v/71921534/Aqours%20-%20PV%20-%20HAPPY%20PARTY%20TRAIN.mp4'\n"
   ]
  },
  {
   "cell_type": "code",
   "execution_count": null,
   "metadata": {},
   "outputs": [],
   "source": [
    "import logging\n",
    "from pathlib import Path\n",
    "\n",
    "import torchaudio\n",
    "\n",
    "from yohane.audio import VocalRemoverVocalsExtractor, compute_alignments\n",
    "from yohane.lyrics import Lyrics\n",
    "from yohane.subtitles import make_ass\n",
    "\n",
    "logging.basicConfig(level=\"INFO\")\n",
    "logger = logging.getLogger(__name__)\n"
   ]
  },
  {
   "cell_type": "code",
   "execution_count": null,
   "metadata": {},
   "outputs": [],
   "source": [
    "SONG_FILE = Path('Aqours - PV - HAPPY PARTY TRAIN.mp4')\n",
    "VOCALS_EXTRACTOR_CLS = VocalRemoverVocalsExtractor\n",
    "\n",
    "waveform, sample_rate = torchaudio.load(SONG_FILE)  # type: ignore\n",
    "\n",
    "if VOCALS_EXTRACTOR_CLS is not None:\n",
    "    extractor = VOCALS_EXTRACTOR_CLS()\n",
    "    logger.info(f\"Extracting vocals with {extractor=}\")\n",
    "    waveform, sample_rate = extractor(waveform, sample_rate)\n",
    "    torchaudio.save(SONG_FILE.with_suffix(\".vocals.wav\"), waveform, sample_rate)  # type: ignore\n"
   ]
  },
  {
   "cell_type": "code",
   "execution_count": null,
   "metadata": {},
   "outputs": [],
   "source": [
    "LYRICS_FILE = Path('Aqours - PV - HAPPY PARTY TRAIN.txt')\n",
    "\n",
    "with open(LYRICS_FILE) as fp:\n",
    "    lyrics = Lyrics(fp.read())\n"
   ]
  },
  {
   "cell_type": "code",
   "execution_count": null,
   "metadata": {},
   "outputs": [],
   "source": [
    "emission, token_spans = compute_alignments(waveform, sample_rate, lyrics.transcript)\n"
   ]
  },
  {
   "cell_type": "code",
   "execution_count": null,
   "metadata": {},
   "outputs": [],
   "source": [
    "subs = make_ass(lyrics, waveform, sample_rate, emission, token_spans)\n",
    "\n",
    "print(subs.to_string('ass'))\n",
    "\n",
    "subs_file = SONG_FILE.with_suffix(\".ass\")\n",
    "subs.save(subs_file.as_posix())\n"
   ]
  }
 ],
 "metadata": {
  "kernelspec": {
   "display_name": ".venv",
   "language": "python",
   "name": "python3"
  },
  "language_info": {
   "codemirror_mode": {
    "name": "ipython",
    "version": 3
   },
   "file_extension": ".py",
   "mimetype": "text/x-python",
   "name": "python",
   "nbconvert_exporter": "python",
   "pygments_lexer": "ipython3",
   "version": "3.11.6"
  }
 },
 "nbformat": 4,
 "nbformat_minor": 2
}
